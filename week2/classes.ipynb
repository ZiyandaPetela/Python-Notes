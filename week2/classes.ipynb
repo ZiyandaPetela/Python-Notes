{
 "cells": [
  {
   "cell_type": "code",
   "execution_count": 7,
   "metadata": {},
   "outputs": [],
   "source": [
    "class MyClass:\n",
    "    def __init__(self,value):\n",
    "         self.value=value #value is an instance class\n",
    "         print(self.value)\n",
    "\n",
    "#Creating objects of my classes\n",
    "         obj1=MyClass(3)\n",
    "         print(obj1.value)\n",
    "         obj1.print_value()"
   ]
  },
  {
   "cell_type": "code",
   "execution_count": 8,
   "metadata": {},
   "outputs": [
    {
     "name": "stdout",
     "output_type": "stream",
     "text": [
      "10\n",
      "20\n",
      "30\n",
      "10\n",
      "10\n",
      "100\n",
      "100\n",
      "100\n"
     ]
    }
   ],
   "source": [
    "class MyClass:\n",
    "    static_attribute = 10  # 'static_attribute' is a static attribute\n",
    "    \n",
    "    def __init__(self, value):\n",
    "        self.value = value  # 'value' is an instance attribute\n",
    "        \n",
    "    def print_value(self):\n",
    "        print(self.value)\n",
    "\n",
    "# Accessing static attribute using class name\n",
    "print(MyClass.static_attribute)  # Output: 10\n",
    "\n",
    "# Creating instances of MyClass\n",
    "obj1 = MyClass(20)\n",
    "obj2 = MyClass(30)\n",
    "\n",
    "# Accessing instance attribute and static attribute\n",
    "print(obj1.value)  # Output: 20\n",
    "print(obj2.value)  # Output: 30\n",
    "print(obj1.static_attribute)  # Output: 10\n",
    "print(obj2.static_attribute)  # Output: 10\n",
    "\n",
    "# Changing the static attribute using class name\n",
    "MyClass.static_attribute = 100\n",
    "print(MyClass.static_attribute)  # Output: 100\n",
    "print(obj1.static_attribute)  # Output: 100\n",
    "print(obj2.static_attribute)  # Output: 100"
   ]
  },
  {
   "cell_type": "code",
   "execution_count": 9,
   "metadata": {},
   "outputs": [],
   "source": [
    "#instance and static method\n",
    "class WordSet:\n",
    "    def __init__(self):\n",
    "      self.words=set()\n",
    "\n",
    "    def addText(self,text):\n",
    "       text=WordSet.cleanText(text)\n",
    "       for word in text.split():\n",
    "          self.words.add(word)\n",
    "          "
   ]
  }
 ],
 "metadata": {
  "kernelspec": {
   "display_name": "Python 3",
   "language": "python",
   "name": "python3"
  },
  "language_info": {
   "codemirror_mode": {
    "name": "ipython",
    "version": 3
   },
   "file_extension": ".py",
   "mimetype": "text/x-python",
   "name": "python",
   "nbconvert_exporter": "python",
   "pygments_lexer": "ipython3",
   "version": "3.12.2"
  }
 },
 "nbformat": 4,
 "nbformat_minor": 2
}
