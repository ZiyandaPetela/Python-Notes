{
 "cells": [
  {
   "cell_type": "code",
   "execution_count": 6,
   "metadata": {},
   "outputs": [],
   "source": [
    "class Dog:\n",
    "    leg=4\n",
    "    def __init__(self,name) :\n",
    "        self.name=name\n",
    "\n",
    "    def speak(self):\n",
    "        print(self.name + \"says bark\")\n",
    "\n",
    "    def getLegs(self):\n",
    "        return self.leg\n",
    "class Chihuahua(Dog):\n",
    "    def speak(self):\n",
    "        print(f\"{self.name}says: yap yap\")\n",
    "    def wagTail(self):\n",
    "        print(\"vigorious\")\n"
   ]
  },
  {
   "cell_type": "code",
   "execution_count": 5,
   "metadata": {},
   "outputs": [
    {
     "name": "stdout",
     "output_type": "stream",
     "text": [
      "zIYANDA zIYANDA\n"
     ]
    }
   ],
   "source": [
    "class Person:\n",
    "    def __init__(self,fname,lname) :\n",
    "      self.fname=fname\n",
    "      self.lname=lname\n",
    "    def printName(self):\n",
    "       print(self.fname,self.lname)\n",
    "x =Person(\"zIYANDA\",\"Petela\")\n",
    "x.printName()\n"
   ]
  }
 ],
 "metadata": {
  "kernelspec": {
   "display_name": "Python 3",
   "language": "python",
   "name": "python3"
  },
  "language_info": {
   "codemirror_mode": {
    "name": "ipython",
    "version": 3
   },
   "file_extension": ".py",
   "mimetype": "text/x-python",
   "name": "python",
   "nbconvert_exporter": "python",
   "pygments_lexer": "ipython3",
   "version": "3.12.2"
  }
 },
 "nbformat": 4,
 "nbformat_minor": 2
}
