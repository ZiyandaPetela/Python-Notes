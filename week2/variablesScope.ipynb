{
 "cells": [
  {
   "cell_type": "code",
   "execution_count": 1,
   "metadata": {},
   "outputs": [
    {
     "name": "stdout",
     "output_type": "stream",
     "text": [
      "{'num1': 2, 'num2': 6, 'operation': 'multiply'}\n"
     ]
    }
   ],
   "source": [
    "#locals\n",
    "def exercises(num1, num2, operation=\"sum\"):\n",
    "    print(locals())\n",
    "exercises(2,6,operation=\"multiply\")\n"
   ]
  },
  {
   "cell_type": "code",
   "execution_count": 2,
   "metadata": {},
   "outputs": [
    {
     "data": {
      "text/plain": [
       "{'__name__': '__main__',\n",
       " '__doc__': 'Automatically created module for IPython interactive environment',\n",
       " '__package__': None,\n",
       " '__loader__': None,\n",
       " '__spec__': None,\n",
       " '__builtin__': <module 'builtins' (built-in)>,\n",
       " '__builtins__': <module 'builtins' (built-in)>,\n",
       " '_ih': ['',\n",
       "  '#locals\\ndef exercises(num1, num2, operation=\"sum\"):\\n    print(locals())\\nexercises(2,6,operation=\"multiply\")',\n",
       "  'globals()'],\n",
       " '_oh': {},\n",
       " '_dh': [WindowsPath('c:/Users/Ziyanda.Petela/Documents/Python-Notes/week2'),\n",
       "  WindowsPath('c:/Users/Ziyanda.Petela/Documents/Python-Notes/week2')],\n",
       " 'In': ['',\n",
       "  '#locals\\ndef exercises(num1, num2, operation=\"sum\"):\\n    print(locals())\\nexercises(2,6,operation=\"multiply\")',\n",
       "  'globals()'],\n",
       " 'Out': {},\n",
       " 'get_ipython': <bound method InteractiveShell.get_ipython of <ipykernel.zmqshell.ZMQInteractiveShell object at 0x000001D9B4988CB0>>,\n",
       " 'exit': <IPython.core.autocall.ZMQExitAutocall at 0x1d9b4989490>,\n",
       " 'quit': <IPython.core.autocall.ZMQExitAutocall at 0x1d9b4989490>,\n",
       " 'open': <function _io.open(file, mode='r', buffering=-1, encoding=None, errors=None, newline=None, closefd=True, opener=None)>,\n",
       " '_': '',\n",
       " '__': '',\n",
       " '___': '',\n",
       " '__vsc_ipynb_file__': 'c:\\\\Users\\\\Ziyanda.Petela\\\\Documents\\\\Python-Notes\\\\week2\\\\variablesScope.ipynb',\n",
       " '_i': '#locals\\ndef exercises(num1, num2, operation=\"sum\"):\\n    print(locals())\\nexercises(2,6,operation=\"multiply\")',\n",
       " '_ii': '',\n",
       " '_iii': '',\n",
       " '_i1': '#locals\\ndef exercises(num1, num2, operation=\"sum\"):\\n    print(locals())\\nexercises(2,6,operation=\"multiply\")',\n",
       " 'exercises': <function __main__.exercises(num1, num2, operation='sum')>,\n",
       " '_i2': 'globals()'}"
      ]
     },
     "execution_count": 2,
     "metadata": {},
     "output_type": "execute_result"
    }
   ],
   "source": [
    "globals()"
   ]
  },
  {
   "cell_type": "code",
   "execution_count": 4,
   "metadata": {},
   "outputs": [
    {
     "name": "stdout",
     "output_type": "stream",
     "text": [
      "{'varA': 1, 'varB': 2}\n",
      "some global data\n",
      "{'varA': 3, 'varB': 4}\n",
      "some global data\n"
     ]
    }
   ],
   "source": [
    "#local and global\n",
    "message =\"some global data\"\n",
    "def variabless(varA,varB):\n",
    "    print(locals())\n",
    "    print(message)\n",
    "variabless(1,2)\n",
    "\n",
    "def varrr(varB,varC):\n",
    "    print(locals())\n",
    "    print(message)\n",
    "variabless(3,4)"
   ]
  },
  {
   "cell_type": "code",
   "execution_count": 5,
   "metadata": {},
   "outputs": [
    {
     "name": "stdout",
     "output_type": "stream",
     "text": [
      "capaciti is awesome\n"
     ]
    }
   ],
   "source": [
    "#global \n",
    "x=\"awesome\"\n",
    "def revision():\n",
    "    print(\"capaciti is \"+x)\n",
    "revision()"
   ]
  },
  {
   "cell_type": "code",
   "execution_count": 7,
   "metadata": {},
   "outputs": [
    {
     "data": {
      "text/plain": [
       "5"
      ]
     },
     "execution_count": 7,
     "metadata": {},
     "output_type": "execute_result"
    }
   ],
   "source": [
    "#variables as function \n",
    "x=5\n",
    "def x():\n",
    "    return 5\n",
    "x()"
   ]
  },
  {
   "cell_type": "code",
   "execution_count": 23,
   "metadata": {},
   "outputs": [
    {
     "data": {
      "text/plain": [
       "<function __main__.punctuactions(text)>"
      ]
     },
     "execution_count": 23,
     "metadata": {},
     "output_type": "execute_result"
    }
   ],
   "source": [
    "#text processing\n",
    "text=\"\"\"Capaciti has been good since the first day. I like it here!\n",
    "\"\"\"\n",
    "def lowercase(text):\n",
    "     return text.lower()\n",
    "lowercase(text)\n",
    "def punctuactions(text):\n",
    "     punctuaction=[\".\",\",\",\"?\",\";\"]\n",
    "     for item in punctuaction:\n",
    "          text=text.replace(punctuaction)\n",
    "          return text\n",
    "punctuactions"
   ]
  },
  {
   "cell_type": "code",
   "execution_count": null,
   "metadata": {},
   "outputs": [],
   "source": []
  }
 ],
 "metadata": {
  "kernelspec": {
   "display_name": "Python 3",
   "language": "python",
   "name": "python3"
  },
  "language_info": {
   "codemirror_mode": {
    "name": "ipython",
    "version": 3
   },
   "file_extension": ".py",
   "mimetype": "text/x-python",
   "name": "python",
   "nbconvert_exporter": "python",
   "pygments_lexer": "ipython3",
   "version": "undefined.undefined.undefined"
  }
 },
 "nbformat": 4,
 "nbformat_minor": 2
}
