{
 "cells": [
  {
   "cell_type": "code",
   "execution_count": 18,
   "metadata": {},
   "outputs": [
    {
     "name": "stdout",
     "output_type": "stream",
     "text": [
      "I am hungry\n"
     ]
    }
   ],
   "source": [
    "def myFunction():\n",
    "       print(\"I am hungry\")\n",
    "myFunction()\n"
   ]
  },
  {
   "cell_type": "code",
   "execution_count": 24,
   "metadata": {},
   "outputs": [
    {
     "name": "stdout",
     "output_type": "stream",
     "text": [
      "ziyanda petela 2323\n"
     ]
    }
   ],
   "source": [
    "def arguments(fname,lname,age):\n",
    "    print(fname,lname,age)\n",
    "arguments(\"ziyanda\",\"petela\",2323)\n"
   ]
  },
  {
   "cell_type": "code",
   "execution_count": 25,
   "metadata": {},
   "outputs": [
    {
     "data": {
      "text/plain": [
       "49"
      ]
     },
     "execution_count": 25,
     "metadata": {},
     "output_type": "execute_result"
    }
   ],
   "source": [
    "def calcul(var):\n",
    "    return 7 * var\n",
    "calcul(7)"
   ]
  },
  {
   "cell_type": "code",
   "execution_count": 26,
   "metadata": {},
   "outputs": [
    {
     "data": {
      "text/plain": [
       "6"
      ]
     },
     "execution_count": 26,
     "metadata": {},
     "output_type": "execute_result"
    }
   ],
   "source": [
    "def additions(num1,num2):\n",
    "    return num1+num2\n",
    "additions(6,0)"
   ]
  },
  {
   "cell_type": "code",
   "execution_count": 55,
   "metadata": {},
   "outputs": [
    {
     "data": {
      "text/plain": [
       "16"
      ]
     },
     "execution_count": 55,
     "metadata": {},
     "output_type": "execute_result"
    }
   ],
   "source": [
    "def inputs():\n",
    "    num1=input(\"please enter first number\")\n",
    "    num1=int(num1)\n",
    "    num2=input(\"enter second number\")\n",
    "    num2=int(num2)\n",
    "    return(num1+num2)\n",
    "inputs()"
   ]
  },
  {
   "cell_type": "code",
   "execution_count": 56,
   "metadata": {},
   "outputs": [
    {
     "name": "stdout",
     "output_type": "stream",
     "text": [
      "Available balance: R 1500.0\n",
      "\n",
      "\n",
      "Your balance is now:  600.0\n"
     ]
    }
   ],
   "source": [
    "#Calculator exercise:\n",
    "def calculator():\n",
    " \n",
    "    balance = 1500.00\n",
    "    print(\"Available balance: R\",balance)\n",
    "    print(\"\\n\")\n",
    "    key = input(\"What would you like to do? \\n1: Deposit,\\n3: Withdraw,\\n4: See balance,\\n5: Done with transaction:\")\n",
    "    key = int(key)\n",
    " \n",
    "    case = {\n",
    "        1: \"Deposit Money\",\n",
    "        2: \"Withdraw Money\",\n",
    "        3: \"Check balance\",\n",
    "        4: \"Done with transaction\"\n",
    "    }\n",
    "    if key == 1 in case:\n",
    "        num = input(\"Please enter the ammount you want to Deposit: \")\n",
    "        num = int(num)\n",
    "        num = num + balance\n",
    "        print(\"Your balance is now: \" ,num)\n",
    " \n",
    "    if key == 2 in case:\n",
    " \n",
    "        num = input(\"Please enter the ammount you want to Deposit: \")\n",
    "        num = int(num)\n",
    "        num = balance - num\n",
    "        print(\"Your balance is now: \" ,num)\n",
    "    if key == 3 in case:\n",
    " \n",
    "        print(\"Available balance is: R\",balance)\n",
    " \n",
    "    if key == 4 in case:\n",
    " \n",
    "        print(\"THANK YOU FOR USING OUR SERVICE\")\n",
    " \n",
    "calculator()"
   ]
  },
  {
   "cell_type": "code",
   "execution_count": 64,
   "metadata": {},
   "outputs": [
    {
     "name": "stdout",
     "output_type": "stream",
     "text": [
      "[2, 2, 3, 3, 1, 4]\n"
     ]
    }
   ],
   "source": [
    "a= [2,2,3,3,1]\n",
    "def appendFour(myList):\n",
    "    myList.append(4)\n",
    "appendFour(a)\n",
    "print(a)\n",
    "    "
   ]
  },
  {
   "cell_type": "code",
   "execution_count": null,
   "metadata": {},
   "outputs": [],
   "source": [
    "a= [2,2,3,3,1]\n",
    "def appendFour(myList):\n",
    "    myList.append(4)\n",
    "appendFour(a)\n",
    "print(a)"
   ]
  },
  {
   "cell_type": "code",
   "execution_count": 4,
   "metadata": {},
   "outputs": [],
   "source": [
    "def addTwo(x):\n",
    "     return x + 2\n",
    "     def multiply(a, b):\n",
    "         return a * b\n",
    "     var = multiply(addTwo(2), 3)"
   ]
  }
 ],
 "metadata": {
  "kernelspec": {
   "display_name": "Python 3",
   "language": "python",
   "name": "python3"
  },
  "language_info": {
   "codemirror_mode": {
    "name": "ipython",
    "version": 3
   },
   "file_extension": ".py",
   "mimetype": "text/x-python",
   "name": "python",
   "nbconvert_exporter": "python",
   "pygments_lexer": "ipython3",
   "version": "3.12.2"
  }
 },
 "nbformat": 4,
 "nbformat_minor": 2
}
