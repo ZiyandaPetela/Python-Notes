{
 "cells": [
  {
   "cell_type": "code",
   "execution_count": 1,
   "metadata": {},
   "outputs": [
    {
     "name": "stdout",
     "output_type": "stream",
     "text": [
      "['zanda', 'sange', 'olu']\n"
     ]
    }
   ],
   "source": [
    "my_list=[\"zanda\",\"sange\",\"olu\"]\n",
    "print(my_list)"
   ]
  },
  {
   "cell_type": "code",
   "execution_count": 2,
   "metadata": {},
   "outputs": [
    {
     "name": "stdout",
     "output_type": "stream",
     "text": [
      "3\n"
     ]
    }
   ],
   "source": [
    "listLength=[2,\"zanda\",4.6]\n",
    "print(len(listLength))"
   ]
  },
  {
   "cell_type": "code",
   "execution_count": 3,
   "metadata": {},
   "outputs": [
    {
     "name": "stdout",
     "output_type": "stream",
     "text": [
      "<class 'list'>\n"
     ]
    }
   ],
   "source": [
    "dataTypelist=[\"linde\",\"zanda\"]\n",
    "print(type(dataTypelist))"
   ]
  },
  {
   "cell_type": "code",
   "execution_count": 4,
   "metadata": {},
   "outputs": [
    {
     "name": "stdout",
     "output_type": "stream",
     "text": [
      "{'sange', 'oluthando', 'zanda'}\n"
     ]
    }
   ],
   "source": [
    "sets={\"zanda\",\"sange\",\"oluthando\"}\n",
    "print(sets)"
   ]
  },
  {
   "cell_type": "code",
   "execution_count": 6,
   "metadata": {},
   "outputs": [
    {
     "name": "stdout",
     "output_type": "stream",
     "text": [
      "{2, 'mels', 'zanda'}\n"
     ]
    }
   ],
   "source": [
    "duplicateSets={\"mels\",\"zanda\",\"zanda\",2,2}\n",
    "print(duplicateSets)"
   ]
  },
  {
   "cell_type": "code",
   "execution_count": 8,
   "metadata": {},
   "outputs": [
    {
     "name": "stdout",
     "output_type": "stream",
     "text": [
      "3\n"
     ]
    }
   ],
   "source": [
    "lengthSets={3,3,4,5}\n",
    "lengthSets={4.5,5.6,6.7}\n",
    "lengthSets={3.4,4.}\n",
    "print(len(lengthSets))"
   ]
  },
  {
   "cell_type": "code",
   "execution_count": 9,
   "metadata": {},
   "outputs": [
    {
     "name": "stdout",
     "output_type": "stream",
     "text": [
      "(2, 2, 5, 6, 6, 8)\n"
     ]
    }
   ],
   "source": [
    "tuples=(2,2,5,6,6,8)\n",
    "print(tuples)"
   ]
  },
  {
   "cell_type": "code",
   "execution_count": 10,
   "metadata": {},
   "outputs": [
    {
     "name": "stdout",
     "output_type": "stream",
     "text": [
      "2\n"
     ]
    }
   ],
   "source": [
    "tupleslen=(2,3,4)\n",
    "tupleslen=(\"zanda\",\"sgg\")\n",
    "print(len(tupleslen))"
   ]
  },
  {
   "cell_type": "code",
   "execution_count": 11,
   "metadata": {},
   "outputs": [
    {
     "name": "stdout",
     "output_type": "stream",
     "text": [
      "<class 'tuple'>\n"
     ]
    }
   ],
   "source": [
    "tuples_type=(\"king\",\"queen\")\n",
    "print(type(tuples_type))"
   ]
  },
  {
   "cell_type": "code",
   "execution_count": 12,
   "metadata": {},
   "outputs": [
    {
     "name": "stdout",
     "output_type": "stream",
     "text": [
      "{'name': 'zanda', 'surname': 'petela', 'age': 22}\n",
      "3\n",
      "<class 'dict'>\n"
     ]
    }
   ],
   "source": [
    "dicti={\n",
    "    \"name\":\"zanda\",\n",
    "    \"surname\":\"petela\",\n",
    "    \"age\":22\n",
    "\n",
    "}\n",
    "print(dicti)\n",
    "print(len(dicti))\n",
    "print(type(dicti))"
   ]
  }
 ],
 "metadata": {
  "kernelspec": {
   "display_name": "Python 3",
   "language": "python",
   "name": "python3"
  },
  "language_info": {
   "codemirror_mode": {
    "name": "ipython",
    "version": 3
   },
   "file_extension": ".py",
   "mimetype": "text/x-python",
   "name": "python",
   "nbconvert_exporter": "python",
   "pygments_lexer": "ipython3",
   "version": "3.12.2"
  }
 },
 "nbformat": 4,
 "nbformat_minor": 2
}
