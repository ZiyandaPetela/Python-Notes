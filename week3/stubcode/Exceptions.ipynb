{
 "cells": [
  {
   "cell_type": "code",
   "execution_count": 1,
   "metadata": {},
   "outputs": [
    {
     "name": "stdout",
     "output_type": "stream",
     "text": [
      "Division by zero is not allowed in our Universe.\n",
      "the program has ended\n"
     ]
    }
   ],
   "source": [
    "try:\n",
    "    value = int(input('Enter a natural number: '))\n",
    "    print('The reciprocal of', value, 'is', 1/value)        \n",
    "except ValueError:\n",
    "    print('Invalid input')    \n",
    "except ZeroDivisionError:\n",
    "    print('Division by zero is not allowed in our Universe.')    \n",
    "except:\n",
    "    print('Something strange has happened here... Sorry!')\n",
    "finally:\n",
    "    print(\"the program has ended\")"
   ]
  }
 ],
 "metadata": {
  "kernelspec": {
   "display_name": "Python 3",
   "language": "python",
   "name": "python3"
  },
  "language_info": {
   "codemirror_mode": {
    "name": "ipython",
    "version": 3
   },
   "file_extension": ".py",
   "mimetype": "text/x-python",
   "name": "python",
   "nbconvert_exporter": "python",
   "pygments_lexer": "ipython3",
   "version": "undefined.undefined.undefined"
  }
 },
 "nbformat": 4,
 "nbformat_minor": 2
}
